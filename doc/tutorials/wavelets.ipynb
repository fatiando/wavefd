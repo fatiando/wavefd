{
 "cells": [
  {
   "cell_type": "markdown",
   "metadata": {},
   "source": [
    "# Wavelets\n",
    "\n",
    "WaveFD defines classes to represent wavelets for the sources of finite difference modeling. "
   ]
  },
  {
   "cell_type": "code",
   "execution_count": null,
   "metadata": {},
   "outputs": [],
   "source": [
    "%matplotlib inline\n",
    "import matplotlib.pyplot as plt\n",
    "import numpy as np\n",
    "from wavefd import RickerWavelet"
   ]
  },
  {
   "cell_type": "markdown",
   "metadata": {},
   "source": [
    "The wavelet classes create objects that can be used to sample the wavelets."
   ]
  },
  {
   "cell_type": "code",
   "execution_count": null,
   "metadata": {},
   "outputs": [],
   "source": [
    "wavelet = RickerWavelet(frequency=5)"
   ]
  },
  {
   "cell_type": "markdown",
   "metadata": {},
   "source": [
    "The object can be evaluated as a function to get amplitude values given time."
   ]
  },
  {
   "cell_type": "code",
   "execution_count": null,
   "metadata": {},
   "outputs": [],
   "source": [
    "print(wavelet(time=0))\n",
    "print(wavelet(time=0.2))"
   ]
  },
  {
   "cell_type": "markdown",
   "metadata": {},
   "source": [
    "Notice that, by default, the largest amplitude of the wavelet is not centered at time = 0. This can be controled by the `delay` parameter. It defaults to 1/frequency."
   ]
  },
  {
   "cell_type": "code",
   "execution_count": null,
   "metadata": {},
   "outputs": [],
   "source": [
    "RickerWavelet(frequency=5, delay=0)(time=0)"
   ]
  },
  {
   "cell_type": "markdown",
   "metadata": {},
   "source": [
    "You can also use numpy arrays to evaluate at multiple times."
   ]
  },
  {
   "cell_type": "code",
   "execution_count": null,
   "metadata": {},
   "outputs": [],
   "source": [
    "times = np.linspace(0, 1, 20)\n",
    "wavelet(times)"
   ]
  },
  {
   "cell_type": "markdown",
   "metadata": {},
   "source": [
    "Another option is to sample the wavelets with a given time interval (dt). The default duration of the sampling is `delay + 1/frequency`, which guarantees that the whole wavelet is sampled."
   ]
  },
  {
   "cell_type": "code",
   "execution_count": null,
   "metadata": {},
   "outputs": [],
   "source": [
    "wavelet.sample(dt=0.01)"
   ]
  },
  {
   "cell_type": "markdown",
   "metadata": {},
   "source": [
    "Let's make a plot of the wavelet."
   ]
  },
  {
   "cell_type": "code",
   "execution_count": null,
   "metadata": {},
   "outputs": [],
   "source": [
    "t = np.linspace(0, 2, 200)\n",
    "\n",
    "plt.figure(figsize=(8, 5))\n",
    "ax = plt.subplot(1, 1, 1)\n",
    "ax.set_title('Ricker and Gaussian wavelets')\n",
    "ax.plot(t, RickerWavelet(frequency=1, amplitude=2)(t), '--', label='Ricker(f=1)')\n",
    "ax.plot(t, RickerWavelet(frequency=5, delay=1)(t), '-', label='Ricker(f=5)')\n",
    "ax.grid()\n",
    "ax.legend()\n",
    "ax.set_ylabel('Amplitude')\n",
    "ax.set_xlabel('time (s)')\n",
    "plt.tight_layout()"
   ]
  }
 ],
 "metadata": {
  "kernelspec": {
   "display_name": "Python 3",
   "language": "python",
   "name": "python3"
  },
  "language_info": {
   "codemirror_mode": {
    "name": "ipython",
    "version": 3
   },
   "file_extension": ".py",
   "mimetype": "text/x-python",
   "name": "python",
   "nbconvert_exporter": "python",
   "pygments_lexer": "ipython3",
   "version": "3.6.4"
  }
 },
 "nbformat": 4,
 "nbformat_minor": 1
}
